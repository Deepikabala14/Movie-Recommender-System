{
 "cells": [
  {
   "cell_type": "code",
   "execution_count": 4,
   "id": "621ad0e5",
   "metadata": {},
   "outputs": [],
   "source": [
    "import numpy as np\n",
    "import pandas as pd\n",
    "\n",
    "from sklearn.feature_extraction.text import CountVectorizer\n",
    "from sklearn.metrics.pairwise import cosine_similarity"
   ]
  },
  {
   "cell_type": "code",
   "execution_count": 2,
   "id": "bd2d60bf",
   "metadata": {},
   "outputs": [],
   "source": [
    "df = pd.read_csv(\"main_data.csv\")"
   ]
  },
  {
   "cell_type": "code",
   "execution_count": 3,
   "id": "418b1d72",
   "metadata": {},
   "outputs": [
    {
     "data": {
      "text/html": [
       "<div>\n",
       "<style scoped>\n",
       "    .dataframe tbody tr th:only-of-type {\n",
       "        vertical-align: middle;\n",
       "    }\n",
       "\n",
       "    .dataframe tbody tr th {\n",
       "        vertical-align: top;\n",
       "    }\n",
       "\n",
       "    .dataframe thead th {\n",
       "        text-align: right;\n",
       "    }\n",
       "</style>\n",
       "<table border=\"1\" class=\"dataframe\">\n",
       "  <thead>\n",
       "    <tr style=\"text-align: right;\">\n",
       "      <th></th>\n",
       "      <th>director_name</th>\n",
       "      <th>actor_1_name</th>\n",
       "      <th>actor_2_name</th>\n",
       "      <th>actor_3_name</th>\n",
       "      <th>genres</th>\n",
       "      <th>movie_title</th>\n",
       "      <th>comb</th>\n",
       "    </tr>\n",
       "  </thead>\n",
       "  <tbody>\n",
       "    <tr>\n",
       "      <th>0</th>\n",
       "      <td>James Cameron</td>\n",
       "      <td>CCH Pounder</td>\n",
       "      <td>Joel David Moore</td>\n",
       "      <td>Wes Studi</td>\n",
       "      <td>Action Adventure Fantasy Sci-Fi</td>\n",
       "      <td>avatar</td>\n",
       "      <td>CCH Pounder Joel David Moore Wes Studi James C...</td>\n",
       "    </tr>\n",
       "    <tr>\n",
       "      <th>1</th>\n",
       "      <td>Gore Verbinski</td>\n",
       "      <td>Johnny Depp</td>\n",
       "      <td>Orlando Bloom</td>\n",
       "      <td>Jack Davenport</td>\n",
       "      <td>Action Adventure Fantasy</td>\n",
       "      <td>pirates of the caribbean: at world's end</td>\n",
       "      <td>Johnny Depp Orlando Bloom Jack Davenport Gore ...</td>\n",
       "    </tr>\n",
       "    <tr>\n",
       "      <th>2</th>\n",
       "      <td>Sam Mendes</td>\n",
       "      <td>Christoph Waltz</td>\n",
       "      <td>Rory Kinnear</td>\n",
       "      <td>Stephanie Sigman</td>\n",
       "      <td>Action Adventure Thriller</td>\n",
       "      <td>spectre</td>\n",
       "      <td>Christoph Waltz Rory Kinnear Stephanie Sigman ...</td>\n",
       "    </tr>\n",
       "    <tr>\n",
       "      <th>3</th>\n",
       "      <td>Christopher Nolan</td>\n",
       "      <td>Tom Hardy</td>\n",
       "      <td>Christian Bale</td>\n",
       "      <td>Joseph Gordon-Levitt</td>\n",
       "      <td>Action Thriller</td>\n",
       "      <td>the dark knight rises</td>\n",
       "      <td>Tom Hardy Christian Bale Joseph Gordon-Levitt ...</td>\n",
       "    </tr>\n",
       "    <tr>\n",
       "      <th>4</th>\n",
       "      <td>Doug Walker</td>\n",
       "      <td>Doug Walker</td>\n",
       "      <td>Rob Walker</td>\n",
       "      <td>unknown</td>\n",
       "      <td>Documentary</td>\n",
       "      <td>star wars: episode vii - the force awakens    ...</td>\n",
       "      <td>Doug Walker Rob Walker unknown Doug Walker Doc...</td>\n",
       "    </tr>\n",
       "  </tbody>\n",
       "</table>\n",
       "</div>"
      ],
      "text/plain": [
       "       director_name     actor_1_name      actor_2_name          actor_3_name  \\\n",
       "0      James Cameron      CCH Pounder  Joel David Moore             Wes Studi   \n",
       "1     Gore Verbinski      Johnny Depp     Orlando Bloom        Jack Davenport   \n",
       "2         Sam Mendes  Christoph Waltz      Rory Kinnear      Stephanie Sigman   \n",
       "3  Christopher Nolan        Tom Hardy    Christian Bale  Joseph Gordon-Levitt   \n",
       "4        Doug Walker      Doug Walker        Rob Walker               unknown   \n",
       "\n",
       "                            genres  \\\n",
       "0  Action Adventure Fantasy Sci-Fi   \n",
       "1         Action Adventure Fantasy   \n",
       "2        Action Adventure Thriller   \n",
       "3                  Action Thriller   \n",
       "4                      Documentary   \n",
       "\n",
       "                                         movie_title  \\\n",
       "0                                             avatar   \n",
       "1           pirates of the caribbean: at world's end   \n",
       "2                                            spectre   \n",
       "3                              the dark knight rises   \n",
       "4  star wars: episode vii - the force awakens    ...   \n",
       "\n",
       "                                                comb  \n",
       "0  CCH Pounder Joel David Moore Wes Studi James C...  \n",
       "1  Johnny Depp Orlando Bloom Jack Davenport Gore ...  \n",
       "2  Christoph Waltz Rory Kinnear Stephanie Sigman ...  \n",
       "3  Tom Hardy Christian Bale Joseph Gordon-Levitt ...  \n",
       "4  Doug Walker Rob Walker unknown Doug Walker Doc...  "
      ]
     },
     "execution_count": 3,
     "metadata": {},
     "output_type": "execute_result"
    }
   ],
   "source": [
    "df.head()"
   ]
  },
  {
   "cell_type": "code",
   "execution_count": 6,
   "id": "deb12967",
   "metadata": {},
   "outputs": [
    {
     "name": "stdout",
     "output_type": "stream",
     "text": [
      "Count Matrix: [[0 0 0 ... 0 0 0]\n",
      " [0 0 0 ... 0 0 0]\n",
      " [0 0 0 ... 0 0 0]\n",
      " ...\n",
      " [0 0 0 ... 0 0 0]\n",
      " [0 0 0 ... 0 0 0]\n",
      " [0 0 0 ... 0 0 0]]\n"
     ]
    }
   ],
   "source": [
    "cv = CountVectorizer()\n",
    "count_matrix = cv.fit_transform(df[\"comb\"])\n",
    "print(\"Count Matrix:\", count_matrix.toarray())"
   ]
  },
  {
   "cell_type": "code",
   "execution_count": 17,
   "id": "c1e0bcd1",
   "metadata": {},
   "outputs": [
    {
     "name": "stdout",
     "output_type": "stream",
     "text": [
      "[[1.         0.24174689 0.16116459 ... 0.         0.         0.        ]\n",
      " [0.24174689 1.         0.18181818 ... 0.         0.         0.        ]\n",
      " [0.16116459 0.18181818 1.         ... 0.         0.         0.        ]\n",
      " ...\n",
      " [0.         0.         0.         ... 1.         0.10540926 0.1       ]\n",
      " [0.         0.         0.         ... 0.10540926 1.         0.10540926]\n",
      " [0.         0.         0.         ... 0.1        0.10540926 1.        ]]\n"
     ]
    }
   ],
   "source": [
    "cosine_sim = cosine_similarity(count_matrix)\n",
    "print(cosine_sim)"
   ]
  },
  {
   "cell_type": "code",
   "execution_count": 12,
   "id": "a6f148f5",
   "metadata": {},
   "outputs": [],
   "source": [
    "movie_user_likes = \"avatar\"\n",
    "def get_index_from_title(title):\n",
    "    return df[df.movie_title == title].index[0]\n",
    "movie_index = get_index_from_title(movie_user_likes)"
   ]
  },
  {
   "cell_type": "code",
   "execution_count": 13,
   "id": "0bc9947e",
   "metadata": {},
   "outputs": [],
   "source": [
    "similar_movies = list(enumerate(cosine_sim[movie_index]))"
   ]
  },
  {
   "cell_type": "code",
   "execution_count": 14,
   "id": "d08e40af",
   "metadata": {},
   "outputs": [],
   "source": [
    "sorted_similar_movies = sorted(similar_movies, key=lambda x:x[1], reverse=True)"
   ]
  },
  {
   "cell_type": "code",
   "execution_count": 16,
   "id": "c6a34d06",
   "metadata": {},
   "outputs": [
    {
     "name": "stdout",
     "output_type": "stream",
     "text": [
      "avatar\n",
      "aliens\n",
      "mystery men\n",
      "deep rising\n",
      "dragonball: evolution\n",
      "terminator 2: judgment day\n",
      "the terminator\n",
      "blade: trinity\n",
      "star wars: the clone wars            \n",
      "the amazing spider-man 2\n",
      "2012\n",
      "guardians of the galaxy\n",
      "dune\n",
      "wing commander\n",
      "robocop 3\n",
      "tron: legacy\n"
     ]
    }
   ],
   "source": [
    "def get_title_from_index(index):\n",
    "    return df[df.index == index][\"movie_title\"].values[0]\n",
    "i=0\n",
    "for movie in sorted_similar_movies:\n",
    "    print(get_title_from_index(movie[0]))\n",
    "    i=i+1\n",
    "    if i>15:\n",
    "        break"
   ]
  },
  {
   "cell_type": "code",
   "execution_count": null,
   "id": "917a18c1",
   "metadata": {},
   "outputs": [],
   "source": []
  }
 ],
 "metadata": {
  "kernelspec": {
   "display_name": "Python 3 (ipykernel)",
   "language": "python",
   "name": "python3"
  },
  "language_info": {
   "codemirror_mode": {
    "name": "ipython",
    "version": 3
   },
   "file_extension": ".py",
   "mimetype": "text/x-python",
   "name": "python",
   "nbconvert_exporter": "python",
   "pygments_lexer": "ipython3",
   "version": "3.9.7"
  }
 },
 "nbformat": 4,
 "nbformat_minor": 5
}
